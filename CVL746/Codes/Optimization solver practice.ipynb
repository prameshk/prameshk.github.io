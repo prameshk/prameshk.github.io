{
 "cells": [
  {
   "cell_type": "markdown",
   "metadata": {},
   "source": [
    "# Optimization Problem\n",
    "In this tutorial, we will learn how to solve the following optimization problem using Gurobi solver.\n",
    "\\begin{align*}\n",
    "& \\max && x + y + z \\\\\n",
    "& \\textrm{subject to} && x + y = 1 \\\\\n",
    "&&& x + 5 y + 2 z \\le 10 \\\\\n",
    "&&& 0 \\le x \\le 5 \\\\\n",
    "&&& z \\ge 2\n",
    "\\end{align*}\n",
    "\n",
    "There are three components of above optimization problem:\n",
    "### Decisions: $x, y, z$\n",
    "### Objective function: $x + y + z$\n",
    "### Constraints: $x + y = 1, x + 5 y + 2 z \\le 10, 0 \\le x \\le 5, z \\ge 2$\n"
   ]
  },
  {
   "cell_type": "markdown",
   "metadata": {},
   "source": [
    "#### Write the above optimization problem as below in a notepad file and save it as 'model.lp'"
   ]
  },
  {
   "cell_type": "markdown",
   "metadata": {},
   "source": [
    "```\n",
    "Maximize\n",
    "  x + y + z\n",
    "Subject To\n",
    "  c0: x + y = 1\n",
    "  c1: x + 5 y + 2 z <= 10\n",
    "Bounds\n",
    "  0 <= x <= 5\n",
    "  z >= 2\n",
    "Generals\n",
    "  x y z\n",
    "End\n",
    "```"
   ]
  },
  {
   "cell_type": "markdown",
   "metadata": {},
   "source": [
    "To solve this model, we start a python session. We begin by importing Gurobi python package. "
   ]
  },
  {
   "cell_type": "code",
   "execution_count": 30,
   "metadata": {},
   "outputs": [],
   "source": [
    "import gurobipy as gp # import gurobipy package as gp\n",
    "from gurobipy import GRB # Import class GRoB from gurobi package.\n",
    "import sys"
   ]
  },
  {
   "cell_type": "markdown",
   "metadata": {},
   "source": [
    "Next step is to read the model. ```gp.read()``` reads the model from file. The argument of this function should be the location of ```.lp``` file. Note that the location uses forward slashes ```/``` not backward slashes ```\\```. We assign the model read from this file to a variable named ```model```."
   ]
  },
  {
   "cell_type": "code",
   "execution_count": 32,
   "metadata": {},
   "outputs": [
    {
     "name": "stdout",
     "output_type": "stream",
     "text": [
      "Read LP format model from file model.lp\n",
      "Reading time = 0.00 seconds\n",
      ": 2 rows, 3 columns, 5 nonzeros\n"
     ]
    }
   ],
   "source": [
    "model = gp.read('model.lp')"
   ]
  },
  {
   "cell_type": "markdown",
   "metadata": {},
   "source": [
    "To switch off the verbose, we set ```model.Params.outputFlag``` to 0. If we want to see the details of the solution method, we set it equal to 1. Now it is time to solve the model. ```model.optimize()``` optimizes the model. "
   ]
  },
  {
   "cell_type": "code",
   "execution_count": 33,
   "metadata": {},
   "outputs": [],
   "source": [
    "model.Params.outputFlag = 0\n",
    "model.optimize()"
   ]
  },
  {
   "cell_type": "markdown",
   "metadata": {},
   "source": [
    "After we optimize, we need to find out whether the model is:\n",
    "\n",
    "* Feasible and Gurobi has found the optimal solution ```GRB.OPTIMAL```\n",
    "* Infeasible ```GRB.INFEASIBLE```\n",
    "* Unbounded ```GRB.UNBOUNDED```\n",
    "* Not sure if unbounded or infeasible ```GRB.INF_OR_UNBD``` \n",
    "  \n",
    "This can be done by checking ```model.status``` and printing the appropriate status. \n",
    "  "
   ]
  },
  {
   "cell_type": "code",
   "execution_count": 34,
   "metadata": {},
   "outputs": [
    {
     "name": "stdout",
     "output_type": "stream",
     "text": [
      "The model is feasible and we have found an optimal solution.\n"
     ]
    }
   ],
   "source": [
    "if model.status == GRB.OPTIMAL:\n",
    "    print('The model is feasible and we have found an optimal solution.')\n",
    "elif model.status == GRB.INF_OR_UNBD:\n",
    "    print('Model is infeasible or unbounded')\n",
    "    sys.exit(0)\n",
    "elif model.status == GRB.INFEASIBLE:\n",
    "    print('Model is infeasible')\n",
    "    sys.exit(0)\n",
    "elif model.status == GRB.UNBOUNDED:\n",
    "    print('Model is unbounded')\n",
    "    sys.exit(0)\n",
    "else:\n",
    "    print('Optimization ended with status %d' % model.status)\n",
    "    sys.exit(0)"
   ]
  },
  {
   "cell_type": "markdown",
   "metadata": {},
   "source": [
    "The current model is optimal. Let us print the optimal objective value using ```model.objVal```."
   ]
  },
  {
   "cell_type": "code",
   "execution_count": 35,
   "metadata": {},
   "outputs": [
    {
     "name": "stdout",
     "output_type": "stream",
     "text": [
      "5.5\n"
     ]
    }
   ],
   "source": [
    "print(model.objVal)"
   ]
  },
  {
   "cell_type": "markdown",
   "metadata": {},
   "source": [
    "Now, let us check the optimal value of $x, y, z$. ```model.getVars()``` gives us the list of all the decision variables. ```k.x``` returns the value, whereas ```k.varName``` returns the name of the variable."
   ]
  },
  {
   "cell_type": "code",
   "execution_count": 36,
   "metadata": {},
   "outputs": [
    {
     "name": "stdout",
     "output_type": "stream",
     "text": [
      "x  =  1.0\n",
      "y  =  0.0\n",
      "z  =  4.5\n"
     ]
    }
   ],
   "source": [
    "for k in model.getVars():\n",
    "    print(k.varName ,' = ', k.x)"
   ]
  },
  {
   "cell_type": "markdown",
   "metadata": {},
   "source": [
    "### How to get the dual variables or shadow prices?\n",
    "This can be done by typing the constraint name and then use ```.pi```"
   ]
  },
  {
   "cell_type": "code",
   "execution_count": 37,
   "metadata": {},
   "outputs": [
    {
     "name": "stdout",
     "output_type": "stream",
     "text": [
      "Shadow price of  <gurobi.Constr c0> = 0.5\n",
      "Shadow price of  <gurobi.Constr c1> = 0.5\n"
     ]
    }
   ],
   "source": [
    "for k in model.getConstrs():\n",
    "    print('Shadow price of ', k, '=', k.pi)"
   ]
  },
  {
   "cell_type": "markdown",
   "metadata": {},
   "source": [
    "### What if the model is infeasible. "
   ]
  },
  {
   "cell_type": "code",
   "execution_count": 39,
   "metadata": {},
   "outputs": [
    {
     "name": "stdout",
     "output_type": "stream",
     "text": [
      "Read LP format model from file model.lp\n",
      "Reading time = 0.00 seconds\n",
      ": 2 rows, 3 columns, 5 nonzeros\n"
     ]
    }
   ],
   "source": [
    "model = gp.read('model.lp')\n",
    "model.Params.outPutFlag = 0\n",
    "model.optimize()\n",
    "if model.status == GRB.INFEASIBLE:\n",
    "    print('Model is infeasible')\n",
    "    sys.exit(0)\n",
    "elif model.status == GRB.INF_OR_UNBD:\n",
    "    print('Model is infeasible or unbounded')\n",
    "    sys.exit(0)  "
   ]
  },
  {
   "cell_type": "markdown",
   "metadata": {},
   "source": [
    "Right now, the solver is not sure if the model is infeasible or unbounded. To clarify this, we set the ```model.Params.DualReductions``` to 0 and then re-optimize."
   ]
  },
  {
   "cell_type": "code",
   "execution_count": 40,
   "metadata": {
    "scrolled": true
   },
   "outputs": [],
   "source": [
    "model.Params.DualReductions  = 0\n",
    "model.optimize()\n",
    "if model.status == GRB.INFEASIBLE:\n",
    "    print('Model is infeasible')"
   ]
  },
  {
   "cell_type": "markdown",
   "metadata": {},
   "source": [
    "To further explore the infeasibility, we can compute an Irreducible  inconsistent Subsystem (IIS) using ```model.computeIIS()```  and write it as a file. "
   ]
  },
  {
   "cell_type": "code",
   "execution_count": 123,
   "metadata": {},
   "outputs": [
    {
     "name": "stdout",
     "output_type": "stream",
     "text": [
      "\n",
      "IIS computed: 0 constraints and 2 bounds\n",
      "IIS runtime: 0.00 seconds\n"
     ]
    }
   ],
   "source": [
    "model.computeIIS() \n",
    "model.write(\"D:/Down/infeasible_model.lp\")"
   ]
  },
  {
   "cell_type": "markdown",
   "metadata": {},
   "source": [
    "### What if the model is unbounded\n",
    "We can get the extreme ray using ```UnbdRay```"
   ]
  },
  {
   "cell_type": "code",
   "execution_count": 120,
   "metadata": {},
   "outputs": [
    {
     "name": "stdout",
     "output_type": "stream",
     "text": [
      "x  =  0.0\n",
      "y  =  0.0\n",
      "z  =  0.5\n"
     ]
    }
   ],
   "source": [
    "model.Params.DualReductions  = 0\n",
    "model.Params.InfUnbdInfo = 1\n",
    "model.Params.outPutFlag = 0\n",
    "model.optimize()\n",
    "for k in model.getVars():\n",
    "    print(k.varName, ' = ', k.UnbdRay)"
   ]
  },
  {
   "cell_type": "markdown",
   "metadata": {},
   "source": [
    "## Creating a model and solving it using Gurobi\n",
    "### Fleet sizing problem\n",
    "There are three components of above optimization problem:\n",
    "\n",
    "#### Decisions: \n",
    "$x_1$: no. of vans to purchase,\n",
    "$x_2$: no. of regular buses to purchase, and\n",
    "$x_3$: no. of articulated buses to purchase\n",
    "#### Formulation: \n",
    "\n",
    "\\begin{align*}\n",
    "& \\max_{x_1, x_2, x_3} && 96x_1 + 400x_2 + 900x_3 \\\\\n",
    "& \\textrm{subject to} && 20x_1 + 120x_2 + 220x_3 \\le 2000 \\\\\n",
    "&&& x_1 + x_2 + x_3  \\le (1-0.1)\\times25 \\\\\n",
    "&&& 6x_1 + 28x_2 + 56x_3 \\ge 450\\\\\n",
    "&&& x_1 \\ge (x_1 + x_2 + x_3)\\times0.3\\\\\n",
    "&&& x_2 \\ge 10\\\\\n",
    "&&& x_3 = 2\\\\\n",
    "&&& x_1 \\ge 0\\\\\n",
    "\\end{align*}\n"
   ]
  },
  {
   "cell_type": "code",
   "execution_count": 41,
   "metadata": {},
   "outputs": [
    {
     "name": "stdout",
     "output_type": "stream",
     "text": [
      "Set parameter DualReductions to value 0\n",
      "Gurobi Optimizer version 11.0.1 build v11.0.1rc0 (mac64[arm] - Darwin 23.5.0 23F79)\n",
      "\n",
      "CPU model: Apple M2\n",
      "Thread count: 8 physical cores, 8 logical processors, using up to 8 threads\n",
      "\n",
      "Optimize a model with 6 rows, 3 columns and 14 nonzeros\n",
      "Model fingerprint: 0x96220b7b\n",
      "Coefficient statistics:\n",
      "  Matrix range     [3e-01, 2e+02]\n",
      "  Objective range  [1e+02, 9e+02]\n",
      "  Bounds range     [0e+00, 0e+00]\n",
      "  RHS range        [2e+00, 2e+03]\n",
      "Presolve time: 0.00s\n",
      "Presolved: 3 rows, 2 columns, 6 nonzeros\n",
      "\n",
      "Iteration    Objective       Primal Inf.    Dual Inf.      Time\n",
      "       0    7.9380989e+03   3.060968e+01   0.000000e+00      0s\n",
      "       2    6.9600000e+03   0.000000e+00   0.000000e+00      0s\n",
      "\n",
      "Solved in 2 iterations and 0.01 seconds (0.00 work units)\n",
      "Optimal objective  6.960000000e+03\n",
      "Found optimal solution\n",
      "x1 = 10.0\n",
      "x2 = 10.5\n",
      "x3 = 2.0\n",
      "overall revenue = 6960.0\n",
      "Gurobi Optimizer version 11.0.1 build v11.0.1rc0 (mac64[arm] - Darwin 23.5.0 23F79)\n",
      "\n",
      "CPU model: Apple M2\n",
      "Thread count: 8 physical cores, 8 logical processors, using up to 8 threads\n",
      "\n",
      "Optimize a model with 6 rows, 3 columns and 14 nonzeros\n",
      "Model fingerprint: 0xd38a2942\n",
      "Variable types: 0 continuous, 3 integer (0 binary)\n",
      "Coefficient statistics:\n",
      "  Matrix range     [3e-01, 2e+02]\n",
      "  Objective range  [1e+02, 9e+02]\n",
      "  Bounds range     [0e+00, 0e+00]\n",
      "  RHS range        [2e+00, 2e+03]\n",
      "Presolve removed 6 rows and 3 columns\n",
      "Presolve time: 0.00s\n",
      "Presolve: All rows and columns removed\n",
      "\n",
      "Explored 0 nodes (0 simplex iterations) in 0.00 seconds (0.00 work units)\n",
      "Thread count was 1 (of 8 available processors)\n",
      "\n",
      "Solution count 1: 6760 \n",
      "\n",
      "Optimal solution found (tolerance 1.00e-04)\n",
      "Best objective 6.760000000000e+03, best bound 6.760000000000e+03, gap 0.0000%\n"
     ]
    }
   ],
   "source": [
    "from gurobipy import *\n",
    "\n",
    "m = Model(\"fleet sizing\") # Initializing the model \n",
    "x1 = m.addVar(vtype= GRB.CONTINUOUS, lb = 0.0, name=\"x1\") # addVar adds a variable\n",
    "x2 = m.addVar(vtype= GRB.CONTINUOUS, lb = 0.0, name=\"x2\")\n",
    "x3 = m.addVar(vtype= GRB.CONTINUOUS, lb = 0.0, name=\"x3\")\n",
    "\n",
    "budget_constr = m.addConstr(20*x1 + 120*x2 + 220*x3 <= 2000) #addConstr adds a constraint\n",
    "driver_constr = m.addConstr(x1 + x2 + x3 <= 0.9*25)\n",
    "ridership_constr = m.addConstr(6*x1 + 28*x2 + 56*x3 >= 450)\n",
    "van_constr = m.addConstr(x1 >= (x1 +x2 + x3)*0.3)\n",
    "regbus_constr = m.addConstr(x1 >= 10)\n",
    "artbus_constr = m.addConstr(x3 == 2)\n",
    "m.setObjective(96*x1 + 400*x2 + 900*x3, sense = GRB.MAXIMIZE)\n",
    "m.Params.DualReductions  = 0\n",
    "m.optimize()\n",
    "\n",
    "\n",
    "if m.status == 2:\n",
    "    print('Found optimal solution')\n",
    "    print(f'x1 = {x1.x}')\n",
    "    print(f'x2 = {x2.x}')\n",
    "    print(f'x3 = {x3.x}')\n",
    "    print(f'overall revenue = {m.objVal}')\n",
    "\n",
    "x1.vtype = GRB.INTEGER\n",
    "x2.vtype = GRB.INTEGER\n",
    "x3.vtype = GRB.INTEGER\n",
    "\n",
    "m.optimize()"
   ]
  }
 ],
 "metadata": {
  "kernelspec": {
   "display_name": "Python 3 (ipykernel)",
   "language": "python",
   "name": "python3"
  },
  "language_info": {
   "codemirror_mode": {
    "name": "ipython",
    "version": 3
   },
   "file_extension": ".py",
   "mimetype": "text/x-python",
   "name": "python",
   "nbconvert_exporter": "python",
   "pygments_lexer": "ipython3",
   "version": "3.11.7"
  }
 },
 "nbformat": 4,
 "nbformat_minor": 4
}
