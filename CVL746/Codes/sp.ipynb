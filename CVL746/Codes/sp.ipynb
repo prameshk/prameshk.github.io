{
 "cells": [
  {
   "cell_type": "markdown",
   "id": "4e72bde4-3955-4e79-8c4b-a6d99eb3b6e0",
   "metadata": {},
   "source": [
    "# Solving shortest path problem using gurobipy"
   ]
  },
  {
   "cell_type": "code",
   "execution_count": 1,
   "id": "95721cc6-dfc4-4ec9-96bf-a0e097f1d235",
   "metadata": {},
   "outputs": [],
   "source": [
    "from gurobipy import * "
   ]
  },
  {
   "cell_type": "code",
   "execution_count": 3,
   "id": "8d4694d3-b592-4d9b-bf5d-5b54cbaea30a",
   "metadata": {},
   "outputs": [],
   "source": [
    "nodes = ['1', '2', '3', '4']\n",
    "links = [('1', '2'), ('1', '3'), ('2', '3'), ('2', '4'), ('3', '4')]\n",
    "FS = {'1': ['2', '3'], '2':['3', '4'], '3':['4'], '4':[]}\n",
    "BS = {'1':[], '2':['1'], '3':['1', '2'], '4':['2', '3']}\n",
    "cost = {('1', '2'): 3, ('1', '3'): 7, ('2', '3'):1, ('2', '4'):3, ('3', '4'):1}"
   ]
  },
  {
   "cell_type": "code",
   "execution_count": 24,
   "id": "e0edfb32-dc3f-49d8-b907-9c7cdb8a7aa4",
   "metadata": {},
   "outputs": [],
   "source": [
    "# Step 1: Intialize the model\n",
    "m = Model('shortest path')# argument takes the name of the model.\n",
    "\n",
    "# Step 2: Add decision variables\n",
    "x = {}\n",
    "for l in links:\n",
    "    # For arguments refer to https://www.gurobi.com/documentation/current/refman/py_model_addvar.html\n",
    "    x[l] = m.addVar(vtype = GRB.BINARY, name = str(l)) \n",
    "    \n",
    "\n",
    "# Step 3: Define constraints\n",
    "for i in nodes:\n",
    "    diff_flow = sum([x[i, j] for j in FS[i]]) - sum([x[j, i] for j in BS[i]])\n",
    "    if i == '1': # origin\n",
    "        #For more details about addConstr refer to https://www.gurobi.com/documentation/current/refman/py_model_addconstr.html\n",
    "        m.addConstr(diff_flow == 1)\n",
    "    elif i == '4': # destination\n",
    "        m.addConstr(diff_flow == -1)\n",
    "    else:\n",
    "        m.addConstr(diff_flow == 0) # other nodes\n",
    "\n",
    "# Step 4: Prepare the objective \n",
    "obj = sum([cost[i, j]*x[i, j] for (i, j) in links])\n",
    "m.setObjective(obj, sense =GRB.MINIMIZE) # For more details, refer to https://www.gurobi.com/documentation/current/refman/cs_model_setobjective.html"
   ]
  },
  {
   "cell_type": "code",
   "execution_count": 25,
   "id": "e14371c2-48cb-4e65-a309-5e1e731aff81",
   "metadata": {},
   "outputs": [
    {
     "name": "stdout",
     "output_type": "stream",
     "text": [
      "Gurobi Optimizer version 11.0.1 build v11.0.1rc0 (mac64[arm] - Darwin 23.5.0 23F79)\n",
      "\n",
      "CPU model: Apple M2\n",
      "Thread count: 8 physical cores, 8 logical processors, using up to 8 threads\n",
      "\n",
      "Optimize a model with 4 rows, 5 columns and 10 nonzeros\n",
      "Model fingerprint: 0x891a69c1\n",
      "Variable types: 0 continuous, 5 integer (5 binary)\n",
      "Coefficient statistics:\n",
      "  Matrix range     [1e+00, 1e+00]\n",
      "  Objective range  [1e+00, 7e+00]\n",
      "  Bounds range     [1e+00, 1e+00]\n",
      "  RHS range        [1e+00, 1e+00]\n",
      "Presolve removed 4 rows and 5 columns\n",
      "Presolve time: 0.00s\n",
      "Presolve: All rows and columns removed\n",
      "\n",
      "Explored 0 nodes (0 simplex iterations) in 0.01 seconds (0.00 work units)\n",
      "Thread count was 1 (of 8 available processors)\n",
      "\n",
      "Solution count 1: 5 \n",
      "\n",
      "Optimal solution found (tolerance 1.00e-04)\n",
      "Best objective 5.000000000000e+00, best bound 5.000000000000e+00, gap 0.0000%\n"
     ]
    }
   ],
   "source": [
    "m.optimize() # Solve the model"
   ]
  },
  {
   "cell_type": "code",
   "execution_count": 29,
   "id": "77e8f62d-ac6c-4db1-9dea-fe4d7414e567",
   "metadata": {},
   "outputs": [
    {
     "name": "stdout",
     "output_type": "stream",
     "text": [
      "5.0\n",
      "('1', '2') 1.0\n",
      "('2', '3') 1.0\n",
      "('3', '4') 1.0\n"
     ]
    }
   ],
   "source": [
    "if m.status == GRB.OPTIMAL:\n",
    "    print(m.objVal)\n",
    "    for l in links:\n",
    "        if x[l].x > 0.2: # To get the value of the decision variable, you need to put \"dot\" followed by the decision variable.\n",
    "            print(l, x[l].x)"
   ]
  },
  {
   "cell_type": "code",
   "execution_count": null,
   "id": "d75b684f-7099-48e1-ae90-d01194bedc79",
   "metadata": {},
   "outputs": [],
   "source": []
  }
 ],
 "metadata": {
  "kernelspec": {
   "display_name": "Python 3 (ipykernel)",
   "language": "python",
   "name": "python3"
  },
  "language_info": {
   "codemirror_mode": {
    "name": "ipython",
    "version": 3
   },
   "file_extension": ".py",
   "mimetype": "text/x-python",
   "name": "python",
   "nbconvert_exporter": "python",
   "pygments_lexer": "ipython3",
   "version": "3.11.7"
  }
 },
 "nbformat": 4,
 "nbformat_minor": 5
}
